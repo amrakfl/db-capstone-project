{
 "cells": [
  {
   "cell_type": "code",
   "execution_count": 1,
   "metadata": {},
   "outputs": [],
   "source": [
    "#Task1\n",
    "import mysql.connector as connector\n",
    "connection = connector.connect(user = \"newmysqluser\", password = \"\", db = \"LittleLemonDB\")\n",
    "cursor = connection.cursor()"
   ]
  },
  {
   "cell_type": "code",
   "execution_count": 2,
   "metadata": {},
   "outputs": [
    {
     "name": "stdout",
     "output_type": "stream",
     "text": [
      "[('Bookings',), ('Customers',), ('MenuItems',), ('Menus',), ('OrderDeliveryStatus',), ('Orders',), ('OrdersView',), ('Staffs',), ('Task2',), ('Task3',)]\n"
     ]
    }
   ],
   "source": [
    "#Task2\n",
    "show_table_query = \"SHOW TABLES;\"\n",
    "cursor.execute(show_table_query)\n",
    "result = cursor.fetchall()\n",
    "print(result) #My Views named OrderView, Task2, Task3 are included in the results, don't be confused with view naming."
   ]
  },
  {
   "cell_type": "code",
   "execution_count": 4,
   "metadata": {},
   "outputs": [
    {
     "name": "stdout",
     "output_type": "stream",
     "text": [
      "[]\n",
      "I didn't populate the Orders table it doesn't produce any results, but you can check the correctness of SQL statements\n"
     ]
    }
   ],
   "source": [
    "#Task3\n",
    "#My Customers table and Orders table are connected through Bookings table in My LittleLemonDB. Refer to Tasks in Week1.\n",
    "query = \"\"\"SELECT c.FirstName, c.LastName, c.Email FROM Customers AS c\n",
    "INNER JOIN Bookings AS b ON c.CustomerID = b.CustomerID\n",
    "INNER JOIN Orders AS o ON o.BookingID = b.BookingID\n",
    "WHERE o.TotalCost > 60;\"\"\"\n",
    "cursor.execute(query)\n",
    "result = cursor.fetchall()\n",
    "print(result)\n",
    "print(\"I didn't populate the Orders table it doesn't produce any results, but you can check the correctness of SQL statements\")"
   ]
  }
 ],
 "metadata": {
  "kernelspec": {
   "display_name": "Python 3",
   "language": "python",
   "name": "python3"
  },
  "language_info": {
   "codemirror_mode": {
    "name": "ipython",
    "version": 3
   },
   "file_extension": ".py",
   "mimetype": "text/x-python",
   "name": "python",
   "nbconvert_exporter": "python",
   "pygments_lexer": "ipython3",
   "version": "3.10.6"
  },
  "orig_nbformat": 4
 },
 "nbformat": 4,
 "nbformat_minor": 2
}
